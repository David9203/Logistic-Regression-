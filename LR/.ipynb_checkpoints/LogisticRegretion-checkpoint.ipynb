{
 "cells": [
  {
   "cell_type": "markdown",
   "metadata": {},
   "source": [
    "# Logistic Regretion in PHYTHON\n",
    "\n",
    "\n",
    "Logistic regretion(LR) belows to bayesian classifiers in the aproach of discriminative models, that is becouse LR is based on the posterior probability of the samples. \n",
    "The objetive of LR is to predict the probability of an outcome become in one of two classes (0,l). \n",
    "\n",
    "LR use a function claled a logistic function(sigmoid), in probabilistic terms it can be optained from P(y=0|x)=p(x|y=0)*p(y=0)/p(x) <--- from bayesian clasifier\n",
    "\n",
    "<img src=\"image.jpg\">\n",
    "\n"
   ]
  },
  {
   "cell_type": "code",
   "execution_count": null,
   "metadata": {},
   "outputs": [],
   "source": [
    "The response of logist"
   ]
  },
  {
   "cell_type": "code",
   "execution_count": 7,
   "metadata": {},
   "outputs": [
    {
     "name": "stdout",
     "output_type": "stream",
     "text": [
      "/bin/sh: -c: line 0: syntax error near unexpected token `/Users/nesdav/Documents/Analisis'\r\n",
      "/bin/sh: -c: line 0: `[title](/Users/nesdav/Documents/Analisis de patrones/image.jpeg)'\r\n"
     ]
    }
   ],
   "source": [
    "\n"
   ]
  },
  {
   "cell_type": "code",
   "execution_count": null,
   "metadata": {},
   "outputs": [],
   "source": []
  }
 ],
 "metadata": {
  "kernelspec": {
   "display_name": "Python 3",
   "language": "python",
   "name": "python3"
  },
  "language_info": {
   "codemirror_mode": {
    "name": "ipython",
    "version": 3
   },
   "file_extension": ".py",
   "mimetype": "text/x-python",
   "name": "python",
   "nbconvert_exporter": "python",
   "pygments_lexer": "ipython3",
   "version": "3.6.8"
  }
 },
 "nbformat": 4,
 "nbformat_minor": 2
}

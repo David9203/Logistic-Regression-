{
 "cells": [
  {
   "cell_type": "markdown",
   "metadata": {},
   "source": [
    "# Discriminant analysis \n",
    "\n",
    "- its a generative model becouse starts from the assumption of the ccd and the prior probability \n",
    "\n",
    " ## Gaussian Classifiers.\n",
    " \n",
    " its assume that the ccd is gaussian. The desition boundary are quadratic, if classes share the same covariance the desitioon boundary is linear and the belowned class is the class that have less distance to the mean, or minimize the mahalanobis distance. \n",
    " \n",
    " if all covariance matrix are diagonal, we get the  bayes classifier \n",
    " \n",
    " if all cov matrix are the identity then we get NN Classifier \n",
    " \n"
   ]
  },
  {
   "cell_type": "markdown",
   "metadata": {},
   "source": [
    "# FISHER LDA\n",
    "\n",
    "Its a reduction tecnique and a clasification method\n",
    "\n",
    "\n",
    "The general LDA approach is very similar to a Principal Component Analysis. But in addition to finding the component axes that maximize the variance of our data (PCA), we are additionally interested in the axes that maximize the separation between multiple classes (LDA). \n",
    "\n",
    "\n",
    "Taken from https://goelhardik.github.io/2016/10/04/fishers-lda/\n",
    "\n",
    "\n",
    "If we project the 2-D data points onto a line (1-D), out of all such lines, our goal is to find the one which maximizes the distance between the means of the 2 classes, after projection. If we could do that, we could achieve a good separation between the classes in 1-D. This is illustrated in the figure on the left and can be captured in the idea of maximizing the \"between class covariance\". However, as we can see that this causes a lot of overlap between the projected classes. We want to minimize this overlap as well. To handle this, Fisher’s LDA tries to minimize the \"within-class covariance\" of each class. Minimizing this covariance leads us to the projection in the figure on the right hand side, which has minimal overlap. Formalizing this, we can represent the objective as follows.\n",
    "\n",
    "$$J(w) = \\frac{w^{\\mathsf{T}}S_{b}w}{w^{\\mathsf{T}}S_{w}w}$$\n",
    "\n",
    "where \n",
    "\n",
    "$$ \\(S_{b} \\in \\mathbb{R}^{d \\times d}\\) $$ and  $$\\(S_{w} \\in \\mathbb{R}^{d \\times d}\\)$$\n",
    "are the between-class and within-class covariance matrices, respectively. They are calculated as\n",
    "\n",
    "$$S_{b} = \\sum_{k = 1}^K (m_{k} - m)N_{k}(m_{k} - m)^{\\mathsf{T}}$$\n",
    "\n",
    "$$S_{w} = \\sum_{k = 1}^K \\sum_{n = 1}^{N_{k}} (X_{nk} - m_{k})(X_{nk} - m_{k})^{\\mathsf{T}}$$\n",
    "$$\n",
    "where \\(X_{nk}\\) is the \\(n\\)th data example in the \\(k\\)th class, \\(N_{k}\\) is the number of examples in class \\(k\\), \\(m\\) is the overall mean of the entire data and \\(m_{k}\\) is the mean of the \\(k\\)th class. Now using Lagrangian dual and the KKT conditions, the problem of maximizing \\(J\\) can be transformed into the solution\n",
    "\n",
    "$$S_{w}^{-1}S_{b}w = \\lambda w$$\n",
    "\n",
    "which is an eigenvalue problem for the matrix  $\\(S_{w}^{-1}S_{b}\\)$. Thus our final solution for \\(w\\) will be the eigenvectors of the above equation, corresponding to the largest eigenvalues. For reduction to \\(d^{\\prime}\\) dimensions, we take the $$\\(d^{\\prime}\\)$$ largest eigenvalues as they will contain the most information. Also, note that if we have \\(K\\) classes, the maximum value of \\(d^{\\prime}\\) can be \\(K - 1\\). That is, we cannot project \\(K\\) class data to a dimension greater than \\(K - 1\\). (Of course, \\(d^{\\prime}\\) cannot be greater than the original data dimension \\(d\\)). This is because of the following reason. Note that the between-class scatter matrix, \\(S_{b}\\) was a sum of \\(K\\) matrices, each of which is of rank 1, being an outer product of two vectors.\n",
    "\n",
    "Also, because the overall mean and the individual class means are related, only (\\(K - 1\\)) of these \\(K\\) matrices are independent. Thus \\(S_{b}\\) has a maximum rank of \\(K - 1\\) and hence there are only \\(K - 1\\) non-zero eigenvalues. Thus we are unable to project the data to more than \\(K - 1\\) dimensions. $$\n",
    "\n",
    "\n",
    "https://medium.com/journey-2-artificial-intelligence/lda-linear-discriminant-analysis-using-python-2155cf5b6398\n",
    "\n",
    "\n",
    "Compute d-dimensional mean vectors for different classes from the dataset, where d is the dimension of feature space.\n",
    "Compute in-between class and with-in class scatter matrices.\n",
    "Compute eigen vectors and corresponding eigen values for the scatter matrices.\n",
    "Choose k eigen vectors corresponding to top k eigen values to form a transformation matrix of dimension d x k.\n",
    "Transform the d-dimensional feature space X to k-dimensional feature space X_lda via the transformation matrix.\n",
    "\n",
    "\n",
    "## Unlike PCA, standardization of the data is not needed in LDA as it doesn’t affect the output.\n",
    "\n",
    "\n",
    "LDA uses the fisher ratio that maximice the diference betwen classses and minimice the variances "
   ]
  },
  {
   "cell_type": "code",
   "execution_count": 1,
   "metadata": {},
   "outputs": [],
   "source": [
    "import numpy as np\n",
    "import pandas as pd\n",
    "import matplotlib.pyplot as plt\n",
    "import seaborn as sns\n",
    "%matplotlib inline\n",
    "\n",
    "columns = [\"var\",\"skewness\",\"curtosis\",\"entropy\",\"class\"]\n",
    "df = pd.read_csv(\"http://archive.ics.uci.edu/ml/machine-learning-databases/00267/\\\n",
    "data_banknote_authentication.txt\",index_col=False, names = columns)"
   ]
  },
  {
   "cell_type": "code",
   "execution_count": 2,
   "metadata": {},
   "outputs": [
    {
     "data": {
      "text/html": [
       "<div>\n",
       "<style scoped>\n",
       "    .dataframe tbody tr th:only-of-type {\n",
       "        vertical-align: middle;\n",
       "    }\n",
       "\n",
       "    .dataframe tbody tr th {\n",
       "        vertical-align: top;\n",
       "    }\n",
       "\n",
       "    .dataframe thead th {\n",
       "        text-align: right;\n",
       "    }\n",
       "</style>\n",
       "<table border=\"1\" class=\"dataframe\">\n",
       "  <thead>\n",
       "    <tr style=\"text-align: right;\">\n",
       "      <th></th>\n",
       "      <th>var</th>\n",
       "      <th>skewness</th>\n",
       "      <th>curtosis</th>\n",
       "      <th>entropy</th>\n",
       "      <th>class</th>\n",
       "    </tr>\n",
       "  </thead>\n",
       "  <tbody>\n",
       "    <tr>\n",
       "      <th>0</th>\n",
       "      <td>3.62160</td>\n",
       "      <td>8.6661</td>\n",
       "      <td>-2.8073</td>\n",
       "      <td>-0.44699</td>\n",
       "      <td>0</td>\n",
       "    </tr>\n",
       "    <tr>\n",
       "      <th>1</th>\n",
       "      <td>4.54590</td>\n",
       "      <td>8.1674</td>\n",
       "      <td>-2.4586</td>\n",
       "      <td>-1.46210</td>\n",
       "      <td>0</td>\n",
       "    </tr>\n",
       "    <tr>\n",
       "      <th>2</th>\n",
       "      <td>3.86600</td>\n",
       "      <td>-2.6383</td>\n",
       "      <td>1.9242</td>\n",
       "      <td>0.10645</td>\n",
       "      <td>0</td>\n",
       "    </tr>\n",
       "    <tr>\n",
       "      <th>3</th>\n",
       "      <td>3.45660</td>\n",
       "      <td>9.5228</td>\n",
       "      <td>-4.0112</td>\n",
       "      <td>-3.59440</td>\n",
       "      <td>0</td>\n",
       "    </tr>\n",
       "    <tr>\n",
       "      <th>4</th>\n",
       "      <td>0.32924</td>\n",
       "      <td>-4.4552</td>\n",
       "      <td>4.5718</td>\n",
       "      <td>-0.98880</td>\n",
       "      <td>0</td>\n",
       "    </tr>\n",
       "  </tbody>\n",
       "</table>\n",
       "</div>"
      ],
      "text/plain": [
       "       var  skewness  curtosis  entropy  class\n",
       "0  3.62160    8.6661   -2.8073 -0.44699      0\n",
       "1  4.54590    8.1674   -2.4586 -1.46210      0\n",
       "2  3.86600   -2.6383    1.9242  0.10645      0\n",
       "3  3.45660    9.5228   -4.0112 -3.59440      0\n",
       "4  0.32924   -4.4552    4.5718 -0.98880      0"
      ]
     },
     "execution_count": 2,
     "metadata": {},
     "output_type": "execute_result"
    }
   ],
   "source": [
    "df.head()"
   ]
  },
  {
   "cell_type": "code",
   "execution_count": 3,
   "metadata": {},
   "outputs": [
    {
     "data": {
      "text/html": [
       "<div>\n",
       "<style scoped>\n",
       "    .dataframe tbody tr th:only-of-type {\n",
       "        vertical-align: middle;\n",
       "    }\n",
       "\n",
       "    .dataframe tbody tr th {\n",
       "        vertical-align: top;\n",
       "    }\n",
       "\n",
       "    .dataframe thead th {\n",
       "        text-align: right;\n",
       "    }\n",
       "</style>\n",
       "<table border=\"1\" class=\"dataframe\">\n",
       "  <thead>\n",
       "    <tr style=\"text-align: right;\">\n",
       "      <th></th>\n",
       "      <th>var</th>\n",
       "      <th>skewness</th>\n",
       "      <th>curtosis</th>\n",
       "      <th>entropy</th>\n",
       "      <th>class</th>\n",
       "    </tr>\n",
       "  </thead>\n",
       "  <tbody>\n",
       "    <tr>\n",
       "      <th>count</th>\n",
       "      <td>1372.000000</td>\n",
       "      <td>1372.000000</td>\n",
       "      <td>1372.000000</td>\n",
       "      <td>1372.000000</td>\n",
       "      <td>1372.000000</td>\n",
       "    </tr>\n",
       "    <tr>\n",
       "      <th>mean</th>\n",
       "      <td>0.433735</td>\n",
       "      <td>1.922353</td>\n",
       "      <td>1.397627</td>\n",
       "      <td>-1.191657</td>\n",
       "      <td>0.444606</td>\n",
       "    </tr>\n",
       "    <tr>\n",
       "      <th>std</th>\n",
       "      <td>2.842763</td>\n",
       "      <td>5.869047</td>\n",
       "      <td>4.310030</td>\n",
       "      <td>2.101013</td>\n",
       "      <td>0.497103</td>\n",
       "    </tr>\n",
       "    <tr>\n",
       "      <th>min</th>\n",
       "      <td>-7.042100</td>\n",
       "      <td>-13.773100</td>\n",
       "      <td>-5.286100</td>\n",
       "      <td>-8.548200</td>\n",
       "      <td>0.000000</td>\n",
       "    </tr>\n",
       "    <tr>\n",
       "      <th>25%</th>\n",
       "      <td>-1.773000</td>\n",
       "      <td>-1.708200</td>\n",
       "      <td>-1.574975</td>\n",
       "      <td>-2.413450</td>\n",
       "      <td>0.000000</td>\n",
       "    </tr>\n",
       "    <tr>\n",
       "      <th>50%</th>\n",
       "      <td>0.496180</td>\n",
       "      <td>2.319650</td>\n",
       "      <td>0.616630</td>\n",
       "      <td>-0.586650</td>\n",
       "      <td>0.000000</td>\n",
       "    </tr>\n",
       "    <tr>\n",
       "      <th>75%</th>\n",
       "      <td>2.821475</td>\n",
       "      <td>6.814625</td>\n",
       "      <td>3.179250</td>\n",
       "      <td>0.394810</td>\n",
       "      <td>1.000000</td>\n",
       "    </tr>\n",
       "    <tr>\n",
       "      <th>max</th>\n",
       "      <td>6.824800</td>\n",
       "      <td>12.951600</td>\n",
       "      <td>17.927400</td>\n",
       "      <td>2.449500</td>\n",
       "      <td>1.000000</td>\n",
       "    </tr>\n",
       "  </tbody>\n",
       "</table>\n",
       "</div>"
      ],
      "text/plain": [
       "               var     skewness     curtosis      entropy        class\n",
       "count  1372.000000  1372.000000  1372.000000  1372.000000  1372.000000\n",
       "mean      0.433735     1.922353     1.397627    -1.191657     0.444606\n",
       "std       2.842763     5.869047     4.310030     2.101013     0.497103\n",
       "min      -7.042100   -13.773100    -5.286100    -8.548200     0.000000\n",
       "25%      -1.773000    -1.708200    -1.574975    -2.413450     0.000000\n",
       "50%       0.496180     2.319650     0.616630    -0.586650     0.000000\n",
       "75%       2.821475     6.814625     3.179250     0.394810     1.000000\n",
       "max       6.824800    12.951600    17.927400     2.449500     1.000000"
      ]
     },
     "execution_count": 3,
     "metadata": {},
     "output_type": "execute_result"
    }
   ],
   "source": [
    "df.describe()"
   ]
  },
  {
   "cell_type": "code",
   "execution_count": 4,
   "metadata": {},
   "outputs": [
    {
     "data": {
      "image/png": "[encoded data removed]",
      "text/plain": [
       "<Figure size 720x216 with 4 Axes>"
      ]
     },
     "metadata": {
      "needs_background": "light"
     },
     "output_type": "display_data"
    }
   ],
   "source": [
    "f, ax = plt.subplots(1, 4, figsize=(10,3))\n",
    "vis1 = sns.distplot(df[\"var\"],bins=10, ax= ax[0])\n",
    "vis2 = sns.distplot(df[\"skewness\"],bins=10, ax=ax[1])\n",
    "vis3 = sns.distplot(df[\"curtosis\"],bins=10, ax= ax[2])\n",
    "vis4 = sns.distplot(df[\"entropy\"],bins=10, ax=ax[3])\n",
    "f.savefig('subplot.png')"
   ]
  },
  {
   "cell_type": "code",
   "execution_count": 6,
   "metadata": {},
   "outputs": [
    {
     "name": "stdout",
     "output_type": "stream",
     "text": [
      "[array([ 2.27668601,  4.25662719,  0.79671797, -1.14764028]), array([-1.86844256, -0.99357612,  2.14827101, -1.24664075])]\n"
     ]
    }
   ],
   "source": [
    "mean_vec = []\n",
    "for i in df[\"class\"].unique():\n",
    "    mean_vec.append( np.array((df[df[\"class\"]==i].mean()[:4]) ))\n",
    "print(mean_vec)"
   ]
  },
  {
   "cell_type": "code",
   "execution_count": 87,
   "metadata": {},
   "outputs": [
    {
     "name": "stdout",
     "output_type": "stream",
     "text": [
      "within-class Scatter Matrix:\n",
      " [[ 15997.20680745  10598.25435322  -6668.5770038    2469.78109368]\n",
      " [ 10598.25435322  54273.08971098 -22017.11039567 -10180.9224334 ]\n",
      " [ -6668.5770038  -22017.11039567  15846.9785222    3996.1409538 ]\n",
      " [  2469.78109368 -10180.9224334    3996.1409538    6313.46245398]]\n",
      "between-class Scatter Matrix:\n",
      " [[ 5.82112206e+03  7.37300999e+03 -1.89802442e+03  1.39029178e+02]\n",
      " [ 7.37300999e+03  9.33862504e+03 -2.40403016e+03  1.76093803e+02]\n",
      " [-1.89802442e+03 -2.40403016e+03  6.18866372e+02 -4.53315997e+01]\n",
      " [ 1.39029178e+02  1.76093803e+02 -4.53315997e+01  3.32051315e+00]]\n"
     ]
    }
   ],
   "source": [
    "#with-in class scatter matrices and in-between class scatter matrices.\n",
    "\n",
    "SW = np.zeros((4,4))\n",
    "for i in range(0,2): #2 is number of classes\n",
    "    per_class_sc_mat = np.zeros((4,4))\n",
    "    for j in range(df[df[\"class\"]==i].shape[0]):\n",
    "        row, mv = df.loc[j][:4].values.reshape(4,1), mean_vec[i].reshape(4,1)\n",
    "        per_class_sc_mat += (row-mv).dot((row-mv).T)\n",
    "    SW += per_class_sc_mat\n",
    "print('within-class Scatter Matrix:\\n', SW)\n",
    "overall_mean = np.array(df.drop(\"class\", axis=1).mean())\n",
    "SB = np.zeros((4,4))\n",
    "\n",
    "for i in range(2): #2 is number of classes\n",
    "    n = df[df[\"class\"]==i].shape[0]\n",
    "    mv = mean_vec[i].reshape(4,1)\n",
    "    overall_mean = overall_mean.reshape(4,1) # make column vector\n",
    "    SB += n * (mv - overall_mean).dot((mv - overall_mean).T)\n",
    "print('between-class Scatter Matrix:\\n', SB)\n",
    "\n"
   ]
  },
  {
   "cell_type": "code",
   "execution_count": 86,
   "metadata": {},
   "outputs": [
    {
     "name": "stdout",
     "output_type": "stream",
     "text": [
      "between-class Scatter Matrix:\n",
      " [[ 3.75148406e+04  4.75161474e+04 -1.22320203e+04  8.95988333e+02]\n",
      " [ 4.75161474e+04  6.01837629e+04 -1.54930282e+04  1.13485525e+03]\n",
      " [-1.22320203e+04 -1.54930282e+04  3.98835019e+03 -2.92144318e+02]\n",
      " [ 8.95988333e+02  1.13485525e+03 -2.92144318e+02  2.13994004e+01]]\n"
     ]
    }
   ],
   "source": [
    "e_vals, e_vecs = np.linalg.eig(np.linalg.inv(SW).dot(SB))\n",
    "print('Eigenvectors \\n%s' %e_vecs)\n",
    "print('\\nEigenvalues \\n%s' %e_vals)"
   ]
  },
  {
   "cell_type": "code",
   "execution_count": 88,
   "metadata": {},
   "outputs": [
    {
     "data": {
      "text/plain": [
       "array([[ 3.69111231e-01,  4.67514813e-01, -1.20351733e-01,\n",
       "         8.81569404e-03],\n",
       "       [ 1.75406616e-01,  2.22169320e-01, -5.71927604e-02,\n",
       "         4.18933624e-03],\n",
       "       [ 2.84139392e-01,  3.59889820e-01, -9.26459707e-02,\n",
       "         6.78626315e-03],\n",
       "       [-1.93641248e-02, -2.45265233e-02,  6.31383114e-03,\n",
       "        -4.62484437e-04]])"
      ]
     },
     "execution_count": 88,
     "metadata": {},
     "output_type": "execute_result"
    }
   ],
   "source": [
    "np.linalg.inv(SW).dot(SB)"
   ]
  },
  {
   "cell_type": "code",
   "execution_count": 89,
   "metadata": {},
   "outputs": [
    {
     "ename": "NameError",
     "evalue": "name 'e_pairs' is not defined",
     "output_type": "error",
     "traceback": [
      "\u001b[0;31m---------------------------------------------------------------------------\u001b[0m",
      "\u001b[0;31mNameError\u001b[0m                                 Traceback (most recent call last)",
      "\u001b[0;32m<ipython-input-89-f2e1316e42fb>\u001b[0m in \u001b[0;36m<module>\u001b[0;34m\u001b[0m\n\u001b[0;32m----> 1\u001b[0;31m \u001b[0mW\u001b[0m \u001b[0;34m=\u001b[0m \u001b[0mnp\u001b[0m\u001b[0;34m.\u001b[0m\u001b[0mhstack\u001b[0m\u001b[0;34m(\u001b[0m\u001b[0;34m(\u001b[0m\u001b[0me_pairs\u001b[0m\u001b[0;34m[\u001b[0m\u001b[0;36m0\u001b[0m\u001b[0;34m]\u001b[0m\u001b[0;34m[\u001b[0m\u001b[0;36m1\u001b[0m\u001b[0;34m]\u001b[0m\u001b[0;34m.\u001b[0m\u001b[0mreshape\u001b[0m\u001b[0;34m(\u001b[0m\u001b[0;36m4\u001b[0m\u001b[0;34m,\u001b[0m\u001b[0;36m1\u001b[0m\u001b[0;34m)\u001b[0m\u001b[0;34m,\u001b[0m \u001b[0me_pairs\u001b[0m\u001b[0;34m[\u001b[0m\u001b[0;36m1\u001b[0m\u001b[0;34m]\u001b[0m\u001b[0;34m[\u001b[0m\u001b[0;36m1\u001b[0m\u001b[0;34m]\u001b[0m\u001b[0;34m.\u001b[0m\u001b[0mreshape\u001b[0m\u001b[0;34m(\u001b[0m\u001b[0;36m4\u001b[0m\u001b[0;34m,\u001b[0m\u001b[0;36m1\u001b[0m\u001b[0;34m)\u001b[0m\u001b[0;34m)\u001b[0m\u001b[0;34m)\u001b[0m\u001b[0;34m\u001b[0m\u001b[0;34m\u001b[0m\u001b[0m\n\u001b[0m\u001b[1;32m      2\u001b[0m \u001b[0mprint\u001b[0m\u001b[0;34m(\u001b[0m\u001b[0;34m'Matrix W:\\n'\u001b[0m\u001b[0;34m,\u001b[0m \u001b[0mW\u001b[0m\u001b[0;34m.\u001b[0m\u001b[0mreal\u001b[0m\u001b[0;34m)\u001b[0m\u001b[0;34m\u001b[0m\u001b[0;34m\u001b[0m\u001b[0m\n",
      "\u001b[0;31mNameError\u001b[0m: name 'e_pairs' is not defined"
     ]
    }
   ],
   "source": [
    "W = np.hstack((e_pairs[0][1].reshape(4,1), e_pairs[1][1].reshape(4,1)))\n",
    "print('Matrix W:\\n', W.real)\n"
   ]
  },
  {
   "cell_type": "code",
   "execution_count": 67,
   "metadata": {},
   "outputs": [
    {
     "data": {
      "text/plain": [
       "array([[ 5.27764256],\n",
       "       [ 6.39847612],\n",
       "       [-4.67107101],\n",
       "       [ 0.34706075]])"
      ]
     },
     "execution_count": 67,
     "metadata": {},
     "output_type": "execute_result"
    }
   ],
   "source": []
  },
  {
   "cell_type": "code",
   "execution_count": null,
   "metadata": {},
   "outputs": [],
   "source": []
  }
 ],
 "metadata": {
  "kernelspec": {
   "display_name": "Python 3",
   "language": "python",
   "name": "python3"
  },
  "language_info": {
   "codemirror_mode": {
    "name": "ipython",
    "version": 3
   },
   "file_extension": ".py",
   "mimetype": "text/x-python",
   "name": "python",
   "nbconvert_exporter": "python",
   "pygments_lexer": "ipython3",
   "version": "3.6.8"
  }
 },
 "nbformat": 4,
 "nbformat_minor": 2
}
